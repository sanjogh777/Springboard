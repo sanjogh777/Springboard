{
 "cells": [
  {
   "cell_type": "markdown",
   "metadata": {},
   "source": [
    "# What is the True Normal Human Body Temperature? \n",
    "\n",
    "#### Background\n",
    "\n",
    "The mean normal body temperature was held to be 37$^{\\circ}$C or 98.6$^{\\circ}$F for more than 120 years since it was first conceptualized and reported by Carl Wunderlich in a famous 1868 book. But, is this value statistically correct?"
   ]
  },
  {
   "cell_type": "markdown",
   "metadata": {},
   "source": [
    "<h3>Exercises</h3>\n",
    "\n",
    "<p>In this exercise, you will analyze a dataset of human body temperatures and employ the concepts of hypothesis testing, confidence intervals, and statistical significance.</p>\n",
    "\n",
    "<p>Answer the following questions <b>in this notebook below and submit to your Github account</b>.</p> \n",
    "\n",
    "<ol>\n",
    "<li>  Is the distribution of body temperatures normal? \n",
    "    <ul>\n",
    "    <li> Although this is not a requirement for CLT to hold (read CLT carefully), it gives us some peace of mind that the population may also be normally distributed if we assume that this sample is representative of the population.\n",
    "    </ul>\n",
    "<li>  Is the sample size large? Are the observations independent?\n",
    "    <ul>\n",
    "    <li> Remember that this is a condition for the CLT, and hence the statistical tests we are using, to apply.\n",
    "    </ul>\n",
    "<li>  Is the true population mean really 98.6 degrees F?\n",
    "    <ul>\n",
    "    <li> Would you use a one-sample or two-sample test? Why?\n",
    "    <li> In this situation, is it appropriate to use the $t$ or $z$ statistic? \n",
    "    <li> Now try using the other test. How is the result be different? Why?\n",
    "    </ul>\n",
    "<li>  Draw a small sample of size 10 from the data and repeat both tests. \n",
    "    <ul>\n",
    "    <li> Which one is the correct one to use? \n",
    "    <li> What do you notice? What does this tell you about the difference in application of the $t$ and $z$ statistic?\n",
    "    </ul>\n",
    "<li>  At what temperature should we consider someone's temperature to be \"abnormal\"?\n",
    "    <ul>\n",
    "    <li> Start by computing the margin of error and confidence interval.\n",
    "    </ul>\n",
    "<li>  Is there a significant difference between males and females in normal temperature?\n",
    "    <ul>\n",
    "    <li> What test did you use and why?\n",
    "    <li> Write a story with your conclusion in the context of the original problem.\n",
    "    </ul>\n",
    "</ol>\n",
    "\n",
    "You can include written notes in notebook cells using Markdown: \n",
    "   - In the control panel at the top, choose Cell > Cell Type > Markdown\n",
    "   - Markdown syntax: http://nestacms.com/docs/creating-content/markdown-cheat-sheet\n",
    "\n",
    "#### Resources\n",
    "\n",
    "+ Information and data sources: http://www.amstat.org/publications/jse/datasets/normtemp.txt, http://www.amstat.org/publications/jse/jse_data_archive.htm\n",
    "+ Markdown syntax: http://nestacms.com/docs/creating-content/markdown-cheat-sheet\n",
    "\n",
    "****"
   ]
  },
  {
   "cell_type": "code",
   "execution_count": 1,
   "metadata": {},
   "outputs": [],
   "source": [
    "import pandas as pd\n",
    "\n",
    "df = pd.read_csv('data/human_body_temperature.csv')"
   ]
  },
  {
   "cell_type": "code",
   "execution_count": 2,
   "metadata": {},
   "outputs": [
    {
     "data": {
      "text/html": [
       "<div>\n",
       "<style scoped>\n",
       "    .dataframe tbody tr th:only-of-type {\n",
       "        vertical-align: middle;\n",
       "    }\n",
       "\n",
       "    .dataframe tbody tr th {\n",
       "        vertical-align: top;\n",
       "    }\n",
       "\n",
       "    .dataframe thead th {\n",
       "        text-align: right;\n",
       "    }\n",
       "</style>\n",
       "<table border=\"1\" class=\"dataframe\">\n",
       "  <thead>\n",
       "    <tr style=\"text-align: right;\">\n",
       "      <th></th>\n",
       "      <th>temperature</th>\n",
       "      <th>gender</th>\n",
       "      <th>heart_rate</th>\n",
       "    </tr>\n",
       "  </thead>\n",
       "  <tbody>\n",
       "    <tr>\n",
       "      <th>0</th>\n",
       "      <td>99.3</td>\n",
       "      <td>F</td>\n",
       "      <td>68.0</td>\n",
       "    </tr>\n",
       "    <tr>\n",
       "      <th>1</th>\n",
       "      <td>98.4</td>\n",
       "      <td>F</td>\n",
       "      <td>81.0</td>\n",
       "    </tr>\n",
       "    <tr>\n",
       "      <th>2</th>\n",
       "      <td>97.8</td>\n",
       "      <td>M</td>\n",
       "      <td>73.0</td>\n",
       "    </tr>\n",
       "    <tr>\n",
       "      <th>3</th>\n",
       "      <td>99.2</td>\n",
       "      <td>F</td>\n",
       "      <td>66.0</td>\n",
       "    </tr>\n",
       "    <tr>\n",
       "      <th>4</th>\n",
       "      <td>98.0</td>\n",
       "      <td>F</td>\n",
       "      <td>73.0</td>\n",
       "    </tr>\n",
       "  </tbody>\n",
       "</table>\n",
       "</div>"
      ],
      "text/plain": [
       "   temperature gender  heart_rate\n",
       "0         99.3      F        68.0\n",
       "1         98.4      F        81.0\n",
       "2         97.8      M        73.0\n",
       "3         99.2      F        66.0\n",
       "4         98.0      F        73.0"
      ]
     },
     "execution_count": 2,
     "metadata": {},
     "output_type": "execute_result"
    }
   ],
   "source": [
    "df.head()"
   ]
  },
  {
   "cell_type": "markdown",
   "metadata": {},
   "source": [
    "## 1. Is the distribution of body temperatures normal?\n",
    "\n",
    "Comparing the distribution plot of the temperature points with the normal curve."
   ]
  },
  {
   "cell_type": "code",
   "execution_count": 3,
   "metadata": {},
   "outputs": [
    {
     "data": {
      "text/plain": [
       "<matplotlib.axes._subplots.AxesSubplot at 0x1f1c6f60898>"
      ]
     },
     "execution_count": 3,
     "metadata": {},
     "output_type": "execute_result"
    },
    {
     "data": {
      "image/png": "[encoded data removed]",
      "text/plain": [
       "<matplotlib.figure.Figure at 0x1f1b497a8d0>"
      ]
     },
     "metadata": {},
     "output_type": "display_data"
    }
   ],
   "source": [
    "import seaborn as sns\n",
    "import numpy as np\n",
    "%matplotlib inline\n",
    "\n",
    "normal_dist = np.random.normal(size=130)\n",
    "sns.distplot(normal_dist)"
   ]
  },
  {
   "cell_type": "code",
   "execution_count": 4,
   "metadata": {},
   "outputs": [
    {
     "data": {
      "text/plain": [
       "<matplotlib.axes._subplots.AxesSubplot at 0x1f1c8f78860>"
      ]
     },
     "execution_count": 4,
     "metadata": {},
     "output_type": "execute_result"
    },
    {
     "data": {
      "image/png": "[encoded data removed]",
      "text/plain": [
       "<matplotlib.figure.Figure at 0x1f1c8f92278>"
      ]
     },
     "metadata": {},
     "output_type": "display_data"
    }
   ],
   "source": [
    "temp_dist = df['temperature'].sort_values()\n",
    "sns.distplot(temp_dist)"
   ]
  },
  {
   "cell_type": "markdown",
   "metadata": {},
   "source": [
    "### The temperature curve looks like the normal curve. "
   ]
  },
  {
   "cell_type": "markdown",
   "metadata": {},
   "source": [
    "## 2. Is the sample size large? Are the observations independent?"
   ]
  },
  {
   "cell_type": "code",
   "execution_count": 5,
   "metadata": {},
   "outputs": [
    {
     "name": "stdout",
     "output_type": "stream",
     "text": [
      "130\n"
     ]
    }
   ],
   "source": [
    "num_obs=len(df['temperature'])\n",
    "print(num_obs)"
   ]
  },
  {
   "cell_type": "markdown",
   "metadata": {},
   "source": [
    "Since n>30, the sample size is large enough. \n",
    "Yes the observations are independendent because each observation is for a unique individual, and the observations from one individual do not impact the observations for another person in the data."
   ]
  },
  {
   "cell_type": "markdown",
   "metadata": {},
   "source": [
    "## 3. Is the true population mean really 98.6 degrees F?"
   ]
  },
  {
   "cell_type": "code",
   "execution_count": 6,
   "metadata": {},
   "outputs": [
    {
     "name": "stdout",
     "output_type": "stream",
     "text": [
      "98.24923076923076\n",
      "0.7331831580389453\n"
     ]
    }
   ],
   "source": [
    "sample_mean = temp_dist.mean()\n",
    "sample_std = temp_dist.std()\n",
    "print(sample_mean)\n",
    "print(sample_std)"
   ]
  },
  {
   "cell_type": "markdown",
   "metadata": {},
   "source": [
    "No. The true mean is not 98.6 F.\n",
    "\n",
    "#### Would you use a one-sample or two-sample test? Why?\n",
    "\n",
    "A one sample test will be utilized. We are looking at the mean for the entire population and not for any subgroups. If we were asking questions about two groups within our population, then a two-sample test would be appropriate.\n",
    "In this situation, is it appropriate to use the t or z statistic?\n",
    "\n",
    "#### In this situation, is it appropriate to use the  tt  or  zz  statistic?\n",
    "It is appropriate to use a z-test because the sample size is large ( n > 30 ) and the standard deviation is known.\n",
    "A t-test would be appropriate if the sample size is small ( n < 30 ) and the standard deviation was unknown.\n",
    "\n",
    "To proceed, we create a null hypothesis to test.\n",
    "\n",
    "Ho: The true mean of the population temperature is 98.6 F"
   ]
  },
  {
   "cell_type": "code",
   "execution_count": 7,
   "metadata": {},
   "outputs": [
    {
     "name": "stdout",
     "output_type": "stream",
     "text": [
      "      H0 Mean: 98.6\n",
      "Observed Mean: 98.24923076923076\n",
      " Observed Std: 0.7331831580389453\n",
      "   Observed n: 130\n",
      "       z-stat: -5.454823292364301\n"
     ]
    }
   ],
   "source": [
    "hyp_mean = 98.6\n",
    "se = (sample_std / np.sqrt(count_temp))\n",
    "\n",
    "z_stat = (sample_mean - hyp_mean) / se\n",
    "print(f'      H0 Mean: {hyp_mean}')\n",
    "print(f'Observed Mean: {sample_mean}')\n",
    "print(f' Observed Std: {sample_std}')\n",
    "print(f'   Observed n: {num_obs}')\n",
    "print(f'       z-stat: {z_stat}')"
   ]
  },
  {
   "cell_type": "markdown",
   "metadata": {},
   "source": [
    "The resulting z-stat is approximate -5.48 standard deviations below the mean of the null hypothesis 98.6 degrees F. The next step is to calculate a p-statistic to identify the probability that the true mean is within 5.48 units of standard deviation of 98.25 F."
   ]
  },
  {
   "cell_type": "code",
   "execution_count": 8,
   "metadata": {},
   "outputs": [
    {
     "name": "stdout",
     "output_type": "stream",
     "text": [
      "p-value: 4.9021570141072446e-08\n",
      "\n"
     ]
    }
   ],
   "source": [
    "import scipy.stats as stats\n",
    "p_value = stats.norm.sf(abs(z_stat))*2 #twosided\n",
    "print(f'p-value: {p_value}\\n')"
   ]
  },
  {
   "cell_type": "markdown",
   "metadata": {
    "collapsed": true
   },
   "source": [
    "The calculated p-value is less than 0.05. As a result, we reject the null hypothesis.\n",
    "This means the true mean is not 98.6°F.\n",
    "\n",
    "#### Now try using the other test. How is the result be different? Why?\n",
    "Using a t-test yields the following, given the low value of p, we can assume that the z statistic and t statistic are approximately equal."
   ]
  },
  {
   "cell_type": "code",
   "execution_count": 9,
   "metadata": {},
   "outputs": [
    {
     "name": "stdout",
     "output_type": "stream",
     "text": [
      "t-statistic: -5.454823292364301\n",
      "p-value: 2.4106320415585427e-07\n"
     ]
    }
   ],
   "source": [
    "# T- test\n",
    "t_stat = z_stat\n",
    "print(f't-statistic: {t_stat}')\n",
    "\n",
    "p_value = stats.t.sf(np.abs(t_stat), len(df)-1) * 2\n",
    "print(f'p-value: {p_value}')"
   ]
  },
  {
   "cell_type": "markdown",
   "metadata": {},
   "source": [
    "The resulting p-value is different from the value calculated from the z-statistic. However, it is still small enough that we can reject the null hypothesis, and say the true mean temperature is not 98.6 F."
   ]
  },
  {
   "cell_type": "markdown",
   "metadata": {},
   "source": [
    "## 4. Draw a small sample of size 10 from the data and repeat both tests.\n",
    "\n",
    "#### Which one is the correct one to use?\n",
    "With such a small sample size ( n < 30 ) a t-test is the appropriate choice.\n",
    "\n",
    "#### What do you notice? What does this tell you about the difference in application of the t and z statistic?"
   ]
  },
  {
   "cell_type": "code",
   "execution_count": 15,
   "metadata": {},
   "outputs": [
    {
     "name": "stdout",
     "output_type": "stream",
     "text": [
      "      z-stat: -2.25423065243525\n",
      "     p-value: 0.02418166139041259\n"
     ]
    }
   ],
   "source": [
    "sample = np.random.choice(df['temperature'], size=10)\n",
    "\n",
    "# Calculate Z Statistic and Associated p-value\n",
    "z_stat2 = ( np.mean(sample) - hyp_mean ) / ( np.std(sample) / np.sqrt(len(sample)) )\n",
    "p_value2 = stats.norm.sf(abs(z_stat2))*2\n",
    "print(f'      z-stat: {z_stat2}')\n",
    "print(f'     p-value: {p_value2}')"
   ]
  },
  {
   "cell_type": "code",
   "execution_count": 16,
   "metadata": {},
   "outputs": [
    {
     "name": "stdout",
     "output_type": "stream",
     "text": [
      " t-statistic: -2.25423065243525\n",
      "p-value: 0.02586823599377087\n"
     ]
    }
   ],
   "source": [
    "# t and z are assumed to be approximately equal due to low p-value\n",
    "# Calculate t-statistic and resulting p-value\n",
    "t_stat2 = z_stat2\n",
    "print(f' t-statistic: {t_stat2}')\n",
    "\n",
    "p_t = stats.t.sf(np.abs(t_stat2), len(df)-1) * 2\n",
    "print(f'p-value: {p_t}')"
   ]
  },
  {
   "cell_type": "markdown",
   "metadata": {},
   "source": [
    "The use of the smaller sample size results in larger p-values, with even some derived samples providing p-results that do not reject the null hypothesis. It shows that picking the wrong tests for a scenario can result in incorrect results.\n",
    "\n",
    "## 5. At what temperature should we consider someone's temperature to be \"abnormal\"?"
   ]
  },
  {
   "cell_type": "code",
   "execution_count": 21,
   "metadata": {},
   "outputs": [
    {
     "name": "stdout",
     "output_type": "stream",
     "text": [
      "(98.12319642818166, 98.3752651102799)\n"
     ]
    }
   ],
   "source": [
    "a=df['temperature']\n",
    "mean, sigma = a.mean(), a.std()\n",
    "print(stats.norm.interval(.95, loc=mean, scale=sigma/np.sqrt(130)))"
   ]
  },
  {
   "cell_type": "markdown",
   "metadata": {},
   "source": [
    "A temperature should be considered abnormal if outside the range of 98.12 °F and 98.37 °F.\n",
    "\n",
    "## 6. Is there a significant difference between males and females in normal temperature?\n",
    "To determine if there is a significant difference between males and females in normal temperature we will test the following hypothesis:\n",
    "\n",
    "H0: The mean temperature for females is equal to the mean temperatures for males.\n",
    "H1: The mean temperature for females is not equal to the mean temperatures for males (or equal to mean temperature of females)."
   ]
  },
  {
   "cell_type": "code",
   "execution_count": 23,
   "metadata": {},
   "outputs": [
    {
     "name": "stdout",
     "output_type": "stream",
     "text": [
      "male mean temp:  98.1046153846154 F\n",
      "female mean temp:  98.39384615384613 F\n",
      "t-score:  -2.2854345381656103\n",
      "p-value:  0.02393188312239561\n"
     ]
    }
   ],
   "source": [
    "m = df[df['gender'] == 'M']\n",
    "f = df[df['gender'] == 'F']\n",
    "\n",
    "male_mean = m['temperature'].mean()\n",
    "female_mean = f['temperature'].mean()\n",
    "\n",
    "print(\"male mean temp: \", male_mean, \"F\")\n",
    "print(\"female mean temp: \", female_mean, \"F\")\n",
    "\n",
    "from scipy.stats import ttest_ind  \n",
    "t, p = ttest_ind(m['temperature'], f['temperature'], equal_var=True)\n",
    "\n",
    "print(\"t-score: \", t)\n",
    "print(\"p-value: \", p)"
   ]
  },
  {
   "cell_type": "markdown",
   "metadata": {},
   "source": [
    "I used a two sample t-test. It is applied to compare whether the mean difference between two genders is really significant. In this case, with a p-value of 0.0239, we can reject the null hypothesis at the 95% confidence interval. As a result, we can infer that the mean temperature for males and females are not the same."
   ]
  },
  {
   "cell_type": "code",
   "execution_count": null,
   "metadata": {},
   "outputs": [],
   "source": []
  }
 ],
 "metadata": {
  "kernelspec": {
   "display_name": "Python 3",
   "language": "python",
   "name": "python3"
  },
  "language_info": {
   "codemirror_mode": {
    "name": "ipython",
    "version": 3
   },
   "file_extension": ".py",
   "mimetype": "text/x-python",
   "name": "python",
   "nbconvert_exporter": "python",
   "pygments_lexer": "ipython3",
   "version": "3.6.4"
  }
 },
 "nbformat": 4,
 "nbformat_minor": 1
}
