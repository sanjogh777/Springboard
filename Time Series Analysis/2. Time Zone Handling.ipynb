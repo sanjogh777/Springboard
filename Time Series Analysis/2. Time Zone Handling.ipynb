{
 "cells": [
  {
   "cell_type": "code",
   "execution_count": 1,
   "metadata": {
    "collapsed": true
   },
   "outputs": [],
   "source": [
    "import numpy as np\n",
    "import pandas as pd"
   ]
  },
  {
   "cell_type": "code",
   "execution_count": 5,
   "metadata": {
    "collapsed": false
   },
   "outputs": [
    {
     "data": {
      "text/plain": [
       "DatetimeIndex(['2012-03-06', '2012-03-07', '2012-03-08', '2012-03-09',\n",
       "               '2012-03-10', '2012-03-11', '2012-03-12', '2012-03-13',\n",
       "               '2012-03-14', '2012-03-15', '2012-03-16', '2012-03-17',\n",
       "               '2012-03-18', '2012-03-19', '2012-03-20'],\n",
       "              dtype='datetime64[ns]', freq='D')"
      ]
     },
     "execution_count": 5,
     "metadata": {},
     "output_type": "execute_result"
    }
   ],
   "source": [
    "rng = pd.date_range('3/6/2012 00:00', periods = 15, freq = 'D')\n",
    "rng"
   ]
  },
  {
   "cell_type": "code",
   "execution_count": 6,
   "metadata": {
    "collapsed": true
   },
   "outputs": [],
   "source": [
    "rng.tz # noting happens because no time zone was specified"
   ]
  },
  {
   "cell_type": "code",
   "execution_count": 7,
   "metadata": {
    "collapsed": false
   },
   "outputs": [
    {
     "data": {
      "text/plain": [
       "<DstTzInfo 'Europe/London' LMT-1 day, 23:59:00 STD>"
      ]
     },
     "execution_count": 7,
     "metadata": {},
     "output_type": "execute_result"
    }
   ],
   "source": [
    "rng_tz = pd.date_range('3/6/2012 00:00', periods = 15, freq = 'D', tz = 'Europe/London')\n",
    "rng_tz.tz #now the information is there"
   ]
  },
  {
   "cell_type": "code",
   "execution_count": 8,
   "metadata": {
    "collapsed": false
   },
   "outputs": [
    {
     "name": "stdout",
     "output_type": "stream",
     "text": [
      "439\n",
      "592\n",
      "{'America/Atka', 'Asia/Kashgar', 'US/Indiana-Starke', 'Etc/Zulu', 'Etc/GMT+9', 'EST5EDT', 'Etc/GMT-8', 'Etc/GMT+7', 'US/Aleutian', 'America/Santa_Isabel', 'Iceland', 'Australia/West', 'America/Cordoba', 'Poland', 'America/Shiprock', 'Asia/Katmandu', 'Etc/UTC', 'MET', 'Australia/South', 'America/Indianapolis', 'Asia/Thimbu', 'US/Michigan', 'Eire', 'America/Buenos_Aires', 'PST8PDT', 'CET', 'Australia/North', 'Europe/Belfast', 'Asia/Harbin', 'Asia/Tel_Aviv', 'Etc/GMT+3', 'Universal', 'Australia/Tasmania', 'Etc/GMT+5', 'W-SU', 'Asia/Saigon', 'Etc/GMT-10', 'Etc/GMT-2', 'Brazil/West', 'Libya', 'Etc/GMT-12', 'Japan', 'CST6CDT', 'UCT', 'Asia/Ulan_Bator', 'MST', 'Africa/Timbuktu', 'MST7MDT', 'NZ', 'Etc/Universal', 'Australia/NSW', 'Australia/Victoria', 'Etc/GMT+1', 'ROK', 'Mexico/BajaNorte', 'Etc/GMT-13', 'Singapore', 'America/Montreal', 'Australia/Canberra', 'Asia/Calcutta', 'Asia/Chongqing', 'Chile/EasterIsland', 'Zulu', 'Hongkong', 'Canada/Saskatchewan', 'Etc/GMT+8', 'Pacific/Ponape', 'Asia/Ashkhabad', 'Australia/Queensland', 'Cuba', 'PRC', 'Brazil/Acre', 'Etc/UCT', 'Australia/Yancowinna', 'Turkey', 'Portugal', 'Etc/GMT+11', 'Atlantic/Faeroe', 'Egypt', 'Etc/GMT+2', 'EST', 'Asia/Chungking', 'Asia/Macao', 'Asia/Dacca', 'Etc/GMT+4', 'Kwajalein', 'Iran', 'GB-Eire', 'GB', 'Australia/ACT', 'Etc/GMT-5', 'Asia/Istanbul', 'America/Rosario', 'Etc/GMT-1', 'Jamaica', 'America/Fort_Wayne', 'Etc/GMT+12', 'Mexico/General', 'Etc/GMT-0', 'US/Samoa', 'Etc/GMT-9', 'Atlantic/Jan_Mayen', 'Antarctica/South_Pole', 'Europe/Tiraspol', 'GMT+0', 'US/Pacific-New', 'Etc/GMT-3', 'Pacific/Yap', 'America/Porto_Acre', 'America/Argentina/ComodRivadavia', 'Pacific/Truk', 'Australia/LHI', 'America/Ensenada', 'Etc/GMT+6', 'GMT-0', 'WET', 'Israel', 'Mexico/BajaSur', 'Greenwich', 'Asia/Ujung_Pandang', 'Europe/Nicosia', 'Africa/Asmera', 'America/Mendoza', 'Canada/Yukon', 'Etc/GMT+0', 'America/Louisville', 'Etc/GMT-7', 'Navajo', 'Pacific/Samoa', 'America/Jujuy', 'NZ-CHAT', 'Etc/GMT+10', 'Chile/Continental', 'America/Virgin', 'HST', 'Etc/GMT-4', 'Etc/GMT-6', 'America/Catamarca', 'America/Coral_Harbour', 'America/Knox_IN', 'Brazil/East', 'Etc/GMT0', 'Etc/GMT', 'Etc/Greenwich', 'Etc/GMT-11', 'EET', 'US/East-Indiana', 'ROC', 'Canada/East-Saskatchewan', 'Brazil/DeNoronha', 'GMT0', 'Etc/GMT-14', 'Asia/Rangoon'}\n"
     ]
    }
   ],
   "source": [
    "from pytz import common_timezones, all_timezones\n",
    "print(len(common_timezones))\n",
    "print(len(all_timezones))\n",
    "print(set(all_timezones) - set(common_timezones))"
   ]
  },
  {
   "cell_type": "code",
   "execution_count": 9,
   "metadata": {
    "collapsed": false
   },
   "outputs": [
    {
     "data": {
      "text/plain": [
       "Timestamp('2016-07-10 08:50:00')"
      ]
     },
     "execution_count": 9,
     "metadata": {},
     "output_type": "execute_result"
    }
   ],
   "source": [
    "# You can also localize a naive timestamp\n",
    "t_naive = pd.Timestamp('2016-07-10 08:50')\n",
    "t_naive"
   ]
  },
  {
   "cell_type": "code",
   "execution_count": 10,
   "metadata": {
    "collapsed": false
   },
   "outputs": [
    {
     "data": {
      "text/plain": [
       "Timestamp('2016-07-10 08:50:00-0500', tz='US/Central')"
      ]
     },
     "execution_count": 10,
     "metadata": {},
     "output_type": "execute_result"
    }
   ],
   "source": [
    "t = t_naive.tz_localize(tz = 'US/Central')\n",
    "t"
   ]
  },
  {
   "cell_type": "code",
   "execution_count": 11,
   "metadata": {
    "collapsed": false
   },
   "outputs": [
    {
     "data": {
      "text/plain": [
       "Timestamp('2016-07-10 22:50:00+0900', tz='Asia/Tokyo')"
      ]
     },
     "execution_count": 11,
     "metadata": {},
     "output_type": "execute_result"
    }
   ],
   "source": [
    "t.tz_convert('Asia/Tokyo')"
   ]
  },
  {
   "cell_type": "code",
   "execution_count": 12,
   "metadata": {
    "collapsed": false
   },
   "outputs": [
    {
     "data": {
      "text/plain": [
       "2016-03-10 00:00:00-06:00    0\n",
       "2016-03-11 00:00:00-06:00    1\n",
       "2016-03-12 00:00:00-06:00    2\n",
       "2016-03-13 00:00:00-06:00    3\n",
       "2016-03-14 00:00:00-05:00    4\n",
       "2016-03-15 00:00:00-05:00    5\n",
       "2016-03-16 00:00:00-05:00    6\n",
       "2016-03-17 00:00:00-05:00    7\n",
       "2016-03-18 00:00:00-05:00    8\n",
       "2016-03-19 00:00:00-05:00    9\n",
       "Freq: D, dtype: int32"
      ]
     },
     "execution_count": 12,
     "metadata": {},
     "output_type": "execute_result"
    }
   ],
   "source": [
    "# how to handle daylight savings?\n",
    "rng = pd.date_range('2016-03-10', periods=10, tz='US/Central')\n",
    "ts = pd.Series(range(10), index=rng)\n",
    "ts"
   ]
  },
  {
   "cell_type": "code",
   "execution_count": 13,
   "metadata": {
    "collapsed": false
   },
   "outputs": [
    {
     "data": {
      "text/plain": [
       "2016-03-10 00:00:00+00:00    0\n",
       "2016-03-11 00:00:00+00:00    1\n",
       "2016-03-12 00:00:00+00:00    2\n",
       "2016-03-13 00:00:00+00:00    3\n",
       "2016-03-14 00:00:00+00:00    4\n",
       "2016-03-15 00:00:00+00:00    5\n",
       "2016-03-16 00:00:00+00:00    6\n",
       "2016-03-17 00:00:00+00:00    7\n",
       "2016-03-18 00:00:00+00:00    8\n",
       "2016-03-19 00:00:00+00:00    9\n",
       "Freq: D, dtype: int32"
      ]
     },
     "execution_count": 13,
     "metadata": {},
     "output_type": "execute_result"
    }
   ],
   "source": [
    "rng = pd.date_range('2016-03-10', periods=10, tz='utc')\n",
    "ts = pd.Series(range(10), index=rng)\n",
    "ts"
   ]
  },
  {
   "cell_type": "code",
   "execution_count": 14,
   "metadata": {
    "collapsed": false
   },
   "outputs": [
    {
     "data": {
      "text/plain": [
       "2016-03-09 18:00:00-06:00    0\n",
       "2016-03-10 18:00:00-06:00    1\n",
       "2016-03-11 18:00:00-06:00    2\n",
       "2016-03-12 18:00:00-06:00    3\n",
       "2016-03-13 19:00:00-05:00    4\n",
       "2016-03-14 19:00:00-05:00    5\n",
       "2016-03-15 19:00:00-05:00    6\n",
       "2016-03-16 19:00:00-05:00    7\n",
       "2016-03-17 19:00:00-05:00    8\n",
       "2016-03-18 19:00:00-05:00    9\n",
       "Freq: D, dtype: int32"
      ]
     },
     "execution_count": 14,
     "metadata": {},
     "output_type": "execute_result"
    }
   ],
   "source": [
    "ts.tz_convert('US/Central')"
   ]
  },
  {
   "cell_type": "code",
   "execution_count": 15,
   "metadata": {
    "collapsed": false
   },
   "outputs": [
    {
     "data": {
      "text/plain": [
       "DatetimeIndex(['2016-03-12 22:00:00-05:00', '2016-03-12 23:00:00-05:00',\n",
       "               '2016-03-13 00:00:00-05:00', '2016-03-13 01:00:00-05:00',\n",
       "               '2016-03-13 03:00:00-04:00', '2016-03-13 04:00:00-04:00',\n",
       "               '2016-03-13 05:00:00-04:00', '2016-03-13 06:00:00-04:00',\n",
       "               '2016-03-13 07:00:00-04:00', '2016-03-13 08:00:00-04:00',\n",
       "               '2016-03-13 09:00:00-04:00', '2016-03-13 10:00:00-04:00'],\n",
       "              dtype='datetime64[ns, US/Eastern]', freq='H')"
      ]
     },
     "execution_count": 15,
     "metadata": {},
     "output_type": "execute_result"
    }
   ],
   "source": [
    "pd.date_range('03-12-2016 22:00', periods = 12, freq = 'H', tz = 'US/Eastern')"
   ]
  },
  {
   "cell_type": "code",
   "execution_count": 16,
   "metadata": {
    "collapsed": false
   },
   "outputs": [
    {
     "data": {
      "text/plain": [
       "Timestamp('2016-03-13 03:00:00-0400', tz='US/Eastern')"
      ]
     },
     "execution_count": 16,
     "metadata": {},
     "output_type": "execute_result"
    }
   ],
   "source": [
    "# May autocorrect an error rather than giving you a non-existent time error\n",
    "pd.Timestamp('2016-03-13 02:00', tz = 'US/Eastern')"
   ]
  }
 ],
 "metadata": {
  "kernelspec": {
   "display_name": "Python 3",
   "language": "python",
   "name": "python3"
  },
  "language_info": {
   "codemirror_mode": {
    "name": "ipython",
    "version": 3
   },
   "file_extension": ".py",
   "mimetype": "text/x-python",
   "name": "python",
   "nbconvert_exporter": "python",
   "pygments_lexer": "ipython3",
   "version": "3.6.0"
  }
 },
 "nbformat": 4,
 "nbformat_minor": 0
}
