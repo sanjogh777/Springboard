{
 "cells": [
  {
   "cell_type": "code",
   "execution_count": 1,
   "metadata": {
    "collapsed": true
   },
   "outputs": [],
   "source": [
    "import pandas as pd\n",
    "import numpy as np"
   ]
  },
  {
   "cell_type": "code",
   "execution_count": 2,
   "metadata": {
    "collapsed": true
   },
   "outputs": [],
   "source": [
    "rng = pd.date_range('1/1/2011', periods=72, freq='H')\n",
    "ts = pd.Series(np.random.randn(len(rng)), index=rng)"
   ]
  },
  {
   "cell_type": "code",
   "execution_count": 3,
   "metadata": {
    "collapsed": true
   },
   "outputs": [],
   "source": [
    "converted = ts.asfreq('45Min', method='pad')"
   ]
  },
  {
   "cell_type": "code",
   "execution_count": 4,
   "metadata": {
    "collapsed": false
   },
   "outputs": [
    {
     "data": {
      "text/plain": [
       "72"
      ]
     },
     "execution_count": 4,
     "metadata": {},
     "output_type": "execute_result"
    }
   ],
   "source": [
    "# Does asfreq change the # of rows?\n",
    "len(ts)"
   ]
  },
  {
   "cell_type": "code",
   "execution_count": 5,
   "metadata": {
    "collapsed": false
   },
   "outputs": [
    {
     "data": {
      "text/plain": [
       "95"
      ]
     },
     "execution_count": 5,
     "metadata": {},
     "output_type": "execute_result"
    }
   ],
   "source": [
    "len(converted) # yes, it does"
   ]
  },
  {
   "cell_type": "markdown",
   "metadata": {
    "collapsed": false
   },
   "source": [
    "#### What do the different methods do?\n",
    " method : {‘backfill’, ‘bfill’, ‘pad’, ‘ffill’, None}\n",
    "\n",
    "backfill and bfill are the same thing, they take data from the next point to fill in the new one (looking in to the future). pad and ffill are the same - forward fill. They both take from the previous data point and copy it. None would create NaN's wherever there is now different times."
   ]
  },
  {
   "cell_type": "markdown",
   "metadata": {},
   "source": [
    "You can forward fill for just a few points with the 'limit = n' argument after ffill."
   ]
  },
  {
   "cell_type": "markdown",
   "metadata": {
    "collapsed": false
   },
   "source": [
    "#### Might any of these methods have pitfalls from a logical point of view?\n",
    "backfill is the biggest issue with it's 'looking to the future' aspect."
   ]
  },
  {
   "cell_type": "markdown",
   "metadata": {
    "collapsed": true
   },
   "source": [
    "#### What's the difference between going to a higher frequency and a lower frequency?\n",
    "Higher frequency would create more data points that need to be filled (or would become empty). Lower frequency will create fewer points and will drop data unless we use resampling."
   ]
  },
  {
   "cell_type": "code",
   "execution_count": 8,
   "metadata": {
    "collapsed": false
   },
   "outputs": [
    {
     "data": {
      "text/plain": [
       "2011-01-01 00:00:00   -1.245219\n",
       "2011-01-01 01:30:00   -0.200534\n",
       "2011-01-01 03:00:00   -1.263665\n",
       "2011-01-01 04:30:00   -1.656263\n",
       "2011-01-01 06:00:00   -0.727558\n",
       "Freq: 90T, dtype: float64"
      ]
     },
     "execution_count": 8,
     "metadata": {},
     "output_type": "execute_result"
    }
   ],
   "source": [
    "converted = ts.asfreq('90Min', method = 'bfill')\n",
    "converted.head()"
   ]
  },
  {
   "cell_type": "markdown",
   "metadata": {
    "collapsed": true
   },
   "source": [
    "#### What's different logically about going to a higher frequency vs a lower frequency? \n",
    "#### What do you want to do when switching to a lower freqeuncy that is not logical when switching to a higher frequency?\n",
    "You don't want to drop/lose data when you go to a lower frequency, so you do want to consider multiple points, even in the 'future'. That is why resampling is better for going to a lower frequency. For higher frequency, you don't want to interpolate, however."
   ]
  },
  {
   "cell_type": "code",
   "execution_count": 9,
   "metadata": {
    "collapsed": false
   },
   "outputs": [
    {
     "data": {
      "text/plain": [
       "2011-01-01   -3.154282\n",
       "2011-01-02   -3.302637\n",
       "2011-01-03   -4.223415\n",
       "Freq: D, dtype: float64"
      ]
     },
     "execution_count": 9,
     "metadata": {},
     "output_type": "execute_result"
    }
   ],
   "source": [
    "ts.resample('D').sum()"
   ]
  },
  {
   "cell_type": "markdown",
   "metadata": {
    "collapsed": true
   },
   "source": [
    "#### What if you want to go to higher frequency and you don't want to ffill or bfill?\n",
    "Just make the method 'None'. It is an option."
   ]
  },
  {
   "cell_type": "markdown",
   "metadata": {
    "collapsed": true
   },
   "source": [
    "#### What is the difference between .resample() and .asfreq()?\n",
    "Asfreq forces the data to certain points and requires either filling or dropping where as resample will aggregate as it changes. "
   ]
  },
  {
   "cell_type": "markdown",
   "metadata": {
    "collapsed": true
   },
   "source": [
    "#### What are some special things you can do with .resample() you can't do with .asfreq()?\n",
    "Resampling also makes an object that can be counted, mean, quantile, etc."
   ]
  },
  {
   "cell_type": "code",
   "execution_count": null,
   "metadata": {
    "collapsed": true
   },
   "outputs": [],
   "source": []
  }
 ],
 "metadata": {
  "kernelspec": {
   "display_name": "Python 3",
   "language": "python",
   "name": "python3"
  },
  "language_info": {
   "codemirror_mode": {
    "name": "ipython",
    "version": 3
   },
   "file_extension": ".py",
   "mimetype": "text/x-python",
   "name": "python",
   "nbconvert_exporter": "python",
   "pygments_lexer": "ipython3",
   "version": "3.6.0"
  }
 },
 "nbformat": 4,
 "nbformat_minor": 0
}
