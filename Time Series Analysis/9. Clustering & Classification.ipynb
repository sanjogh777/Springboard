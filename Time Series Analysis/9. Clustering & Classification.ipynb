{
 "cells": [
  {
   "cell_type": "code",
   "execution_count": 1,
   "metadata": {
    "collapsed": false
   },
   "outputs": [],
   "source": [
    "import matplotlib.pylab as plt\n",
    "%matplotlib inline\n",
    "from matplotlib.pylab import rcParams\n",
    "rcParams['figure.figsize'] = 15, 6\n",
    "from pandas_datareader import DataReader\n",
    "from datetime import datetime\n",
    "from scipy.cluster.hierarchy import dendrogram, linkage\n",
    "\n",
    "import pandas as pd\n",
    "import numpy as np\n",
    "from sklearn.metrics.pairwise import pairwise_distances\n",
    "from math import sqrt\n",
    "from scipy.spatial.distance import squareform"
   ]
  },
  {
   "cell_type": "code",
   "execution_count": 2,
   "metadata": {
    "collapsed": true
   },
   "outputs": [],
   "source": [
    "words = pd.read_csv('data/50words_TEST.csv')"
   ]
  },
  {
   "cell_type": "code",
   "execution_count": 3,
   "metadata": {
    "collapsed": false
   },
   "outputs": [],
   "source": [
    "test = words.iloc[:, 1:].as_matrix()"
   ]
  },
  {
   "cell_type": "code",
   "execution_count": 17,
   "metadata": {
    "collapsed": false
   },
   "outputs": [
    {
     "ename": "ValueError",
     "evalue": "Unknown metric DTWDistance. Valid metrics are ['euclidean', 'l2', 'l1', 'manhattan', 'cityblock', 'braycurtis', 'canberra', 'chebyshev', 'correlation', 'cosine', 'dice', 'hamming', 'jaccard', 'kulsinski', 'mahalanobis', 'matching', 'minkowski', 'rogerstanimoto', 'russellrao', 'seuclidean', 'sokalmichener', 'sokalsneath', 'sqeuclidean', 'yule', 'wminkowski'], or 'precomputed', or a callable",
     "output_type": "error",
     "traceback": [
      "\u001b[0;31m---------------------------------------------------------------------------\u001b[0m",
      "\u001b[0;31mValueError\u001b[0m                                Traceback (most recent call last)",
      "\u001b[0;32m<ipython-input-17-7ea5b78dc37c>\u001b[0m in \u001b[0;36m<module>\u001b[0;34m()\u001b[0m\n\u001b[1;32m      1\u001b[0m \u001b[0ma\u001b[0m \u001b[1;33m=\u001b[0m \u001b[1;32mlambda\u001b[0m \u001b[0mx\u001b[0m\u001b[1;33m,\u001b[0m \u001b[0my\u001b[0m\u001b[1;33m:\u001b[0m \u001b[0mx\u001b[0m\u001b[1;33m[\u001b[0m\u001b[1;36m0\u001b[0m\u001b[1;33m]\u001b[0m \u001b[1;33m+\u001b[0m \u001b[0my\u001b[0m\u001b[1;33m[\u001b[0m\u001b[1;36m0\u001b[0m\u001b[1;33m]\u001b[0m\u001b[1;33m\u001b[0m\u001b[0m\n\u001b[0;32m----> 2\u001b[0;31m \u001b[0mp\u001b[0m \u001b[1;33m=\u001b[0m \u001b[0mpairwise_distances\u001b[0m\u001b[1;33m(\u001b[0m\u001b[0mtest\u001b[0m\u001b[1;33m,\u001b[0m \u001b[0mmetric\u001b[0m \u001b[1;33m=\u001b[0m \u001b[1;34m'DTWDistance'\u001b[0m\u001b[1;33m)\u001b[0m\u001b[1;33m\u001b[0m\u001b[0m\n\u001b[0m",
      "\u001b[0;32mC:\\Users\\asduser\\AppData\\Local\\Continuum\\Anaconda3\\lib\\site-packages\\sklearn\\metrics\\pairwise.py\u001b[0m in \u001b[0;36mpairwise_distances\u001b[0;34m(X, Y, metric, n_jobs, **kwds)\u001b[0m\n\u001b[1;32m   1215\u001b[0m         raise ValueError(\"Unknown metric %s. \"\n\u001b[1;32m   1216\u001b[0m                          \u001b[1;34m\"Valid metrics are %s, or 'precomputed', or a \"\u001b[0m\u001b[1;33m\u001b[0m\u001b[0m\n\u001b[0;32m-> 1217\u001b[0;31m                          \"callable\" % (metric, _VALID_METRICS))\n\u001b[0m\u001b[1;32m   1218\u001b[0m \u001b[1;33m\u001b[0m\u001b[0m\n\u001b[1;32m   1219\u001b[0m     \u001b[1;32mif\u001b[0m \u001b[0mmetric\u001b[0m \u001b[1;33m==\u001b[0m \u001b[1;34m\"precomputed\"\u001b[0m\u001b[1;33m:\u001b[0m\u001b[1;33m\u001b[0m\u001b[0m\n",
      "\u001b[0;31mValueError\u001b[0m: Unknown metric DTWDistance. Valid metrics are ['euclidean', 'l2', 'l1', 'manhattan', 'cityblock', 'braycurtis', 'canberra', 'chebyshev', 'correlation', 'cosine', 'dice', 'hamming', 'jaccard', 'kulsinski', 'mahalanobis', 'matching', 'minkowski', 'rogerstanimoto', 'russellrao', 'seuclidean', 'sokalmichener', 'sokalsneath', 'sqeuclidean', 'yule', 'wminkowski'], or 'precomputed', or a callable"
     ]
    }
   ],
   "source": [
    "a = lambda x, y: x[0] + y[0]\n",
    "p = pairwise_distances(test, metric = 'DTWDistance')"
   ]
  },
  {
   "cell_type": "code",
   "execution_count": 7,
   "metadata": {
    "collapsed": false
   },
   "outputs": [
    {
     "name": "stderr",
     "output_type": "stream",
     "text": [
      "C:\\Users\\asduser\\AppData\\Local\\Continuum\\Anaconda3\\lib\\site-packages\\ipykernel\\__main__.py:2: ClusterWarning: scipy.cluster: The symmetric non-negative hollow observation matrix looks suspiciously like an uncondensed distance matrix\n",
      "  from ipykernel import kernelapp as app\n"
     ]
    }
   ],
   "source": [
    "p.shape\n",
    "Z = linkage(p, 'ward')"
   ]
  },
  {
   "cell_type": "code",
   "execution_count": 8,
   "metadata": {
    "collapsed": false
   },
   "outputs": [
    {
     "data": {
      "text/plain": [
       "array([[  9.20000000e+01,   2.97000000e+02,   1.81755048e+02,\n",
       "          2.00000000e+00],\n",
       "       [  3.00000000e+00,   3.91000000e+02,   1.84795106e+02,\n",
       "          2.00000000e+00],\n",
       "       [  2.04000000e+02,   3.45000000e+02,   2.06173252e+02,\n",
       "          2.00000000e+00],\n",
       "       ..., \n",
       "       [  9.00000000e+02,   9.02000000e+02,   7.77154271e+03,\n",
       "          2.21000000e+02],\n",
       "       [  9.03000000e+02,   9.04000000e+02,   9.29346187e+03,\n",
       "          3.43000000e+02],\n",
       "       [  9.01000000e+02,   9.05000000e+02,   1.37612796e+04,\n",
       "          4.54000000e+02]])"
      ]
     },
     "execution_count": 8,
     "metadata": {},
     "output_type": "execute_result"
    }
   ],
   "source": [
    "Z"
   ]
  },
  {
   "cell_type": "code",
   "execution_count": 9,
   "metadata": {
    "collapsed": false
   },
   "outputs": [
    {
     "data": {
      "text/html": [
       "<div>\n",
       "<style>\n",
       "    .dataframe thead tr:only-child th {\n",
       "        text-align: right;\n",
       "    }\n",
       "\n",
       "    .dataframe thead th {\n",
       "        text-align: left;\n",
       "    }\n",
       "\n",
       "    .dataframe tbody tr th {\n",
       "        vertical-align: top;\n",
       "    }\n",
       "</style>\n",
       "<table border=\"1\" class=\"dataframe\">\n",
       "  <thead>\n",
       "    <tr style=\"text-align: right;\">\n",
       "      <th></th>\n",
       "      <th>4</th>\n",
       "      <th>-0.89094</th>\n",
       "      <th>-0.86099</th>\n",
       "      <th>-0.82438</th>\n",
       "      <th>-0.78214</th>\n",
       "      <th>-0.73573</th>\n",
       "      <th>-0.68691</th>\n",
       "      <th>-0.63754</th>\n",
       "      <th>-0.58937</th>\n",
       "      <th>-0.54342</th>\n",
       "      <th>...</th>\n",
       "      <th>-0.86309</th>\n",
       "      <th>-0.86791</th>\n",
       "      <th>-0.87271</th>\n",
       "      <th>-0.87846</th>\n",
       "      <th>-0.88592</th>\n",
       "      <th>-0.89619</th>\n",
       "      <th>-0.90783</th>\n",
       "      <th>-0.91942</th>\n",
       "      <th>-0.93018</th>\n",
       "      <th>-0.93939</th>\n",
       "    </tr>\n",
       "  </thead>\n",
       "  <tbody>\n",
       "    <tr>\n",
       "      <th>0</th>\n",
       "      <td>12</td>\n",
       "      <td>-0.78346</td>\n",
       "      <td>-0.68562</td>\n",
       "      <td>-0.58409</td>\n",
       "      <td>-0.47946</td>\n",
       "      <td>-0.37398</td>\n",
       "      <td>-0.27008</td>\n",
       "      <td>-0.17225</td>\n",
       "      <td>-0.087463</td>\n",
       "      <td>-0.019191</td>\n",
       "      <td>...</td>\n",
       "      <td>-0.88318</td>\n",
       "      <td>-0.89189</td>\n",
       "      <td>-0.90290</td>\n",
       "      <td>-0.91427</td>\n",
       "      <td>-0.92668</td>\n",
       "      <td>-0.93966</td>\n",
       "      <td>-0.95244</td>\n",
       "      <td>-0.96623</td>\n",
       "      <td>-0.9805</td>\n",
       "      <td>-0.99178</td>\n",
       "    </tr>\n",
       "    <tr>\n",
       "      <th>1</th>\n",
       "      <td>13</td>\n",
       "      <td>-1.32560</td>\n",
       "      <td>-1.28430</td>\n",
       "      <td>-1.21970</td>\n",
       "      <td>-1.15670</td>\n",
       "      <td>-1.09980</td>\n",
       "      <td>-1.04960</td>\n",
       "      <td>-1.01550</td>\n",
       "      <td>-0.996720</td>\n",
       "      <td>-0.985040</td>\n",
       "      <td>...</td>\n",
       "      <td>-0.83499</td>\n",
       "      <td>-0.86204</td>\n",
       "      <td>-0.88559</td>\n",
       "      <td>-0.90454</td>\n",
       "      <td>-0.93353</td>\n",
       "      <td>-0.99135</td>\n",
       "      <td>-1.06910</td>\n",
       "      <td>-1.13680</td>\n",
       "      <td>-1.1980</td>\n",
       "      <td>-1.27000</td>\n",
       "    </tr>\n",
       "    <tr>\n",
       "      <th>2</th>\n",
       "      <td>23</td>\n",
       "      <td>-1.09370</td>\n",
       "      <td>-1.04200</td>\n",
       "      <td>-0.99840</td>\n",
       "      <td>-0.95997</td>\n",
       "      <td>-0.93997</td>\n",
       "      <td>-0.93764</td>\n",
       "      <td>-0.92649</td>\n",
       "      <td>-0.857090</td>\n",
       "      <td>-0.693320</td>\n",
       "      <td>...</td>\n",
       "      <td>-0.72810</td>\n",
       "      <td>-0.74512</td>\n",
       "      <td>-0.76376</td>\n",
       "      <td>-0.78068</td>\n",
       "      <td>-0.80593</td>\n",
       "      <td>-0.84350</td>\n",
       "      <td>-0.89531</td>\n",
       "      <td>-0.96052</td>\n",
       "      <td>-1.0509</td>\n",
       "      <td>-1.12830</td>\n",
       "    </tr>\n",
       "    <tr>\n",
       "      <th>3</th>\n",
       "      <td>4</td>\n",
       "      <td>-0.90138</td>\n",
       "      <td>-0.85228</td>\n",
       "      <td>-0.80196</td>\n",
       "      <td>-0.74932</td>\n",
       "      <td>-0.69298</td>\n",
       "      <td>-0.63316</td>\n",
       "      <td>-0.57038</td>\n",
       "      <td>-0.506920</td>\n",
       "      <td>-0.446040</td>\n",
       "      <td>...</td>\n",
       "      <td>-0.95452</td>\n",
       "      <td>-0.97322</td>\n",
       "      <td>-0.98984</td>\n",
       "      <td>-1.00520</td>\n",
       "      <td>-1.01880</td>\n",
       "      <td>-1.02960</td>\n",
       "      <td>-1.03700</td>\n",
       "      <td>-1.04110</td>\n",
       "      <td>-1.0418</td>\n",
       "      <td>-1.04030</td>\n",
       "    </tr>\n",
       "    <tr>\n",
       "      <th>4</th>\n",
       "      <td>13</td>\n",
       "      <td>-1.24470</td>\n",
       "      <td>-1.22000</td>\n",
       "      <td>-1.16940</td>\n",
       "      <td>-1.09130</td>\n",
       "      <td>-0.98968</td>\n",
       "      <td>-0.86828</td>\n",
       "      <td>-0.73462</td>\n",
       "      <td>-0.595370</td>\n",
       "      <td>-0.457100</td>\n",
       "      <td>...</td>\n",
       "      <td>-0.59899</td>\n",
       "      <td>-0.69078</td>\n",
       "      <td>-0.78410</td>\n",
       "      <td>-0.87322</td>\n",
       "      <td>-0.95100</td>\n",
       "      <td>-1.01550</td>\n",
       "      <td>-1.07050</td>\n",
       "      <td>-1.12200</td>\n",
       "      <td>-1.1728</td>\n",
       "      <td>-1.21670</td>\n",
       "    </tr>\n",
       "  </tbody>\n",
       "</table>\n",
       "<p>5 rows × 271 columns</p>\n",
       "</div>"
      ],
      "text/plain": [
       "    4  -0.89094  -0.86099  -0.82438  -0.78214  -0.73573  -0.68691  -0.63754  \\\n",
       "0  12  -0.78346  -0.68562  -0.58409  -0.47946  -0.37398  -0.27008  -0.17225   \n",
       "1  13  -1.32560  -1.28430  -1.21970  -1.15670  -1.09980  -1.04960  -1.01550   \n",
       "2  23  -1.09370  -1.04200  -0.99840  -0.95997  -0.93997  -0.93764  -0.92649   \n",
       "3   4  -0.90138  -0.85228  -0.80196  -0.74932  -0.69298  -0.63316  -0.57038   \n",
       "4  13  -1.24470  -1.22000  -1.16940  -1.09130  -0.98968  -0.86828  -0.73462   \n",
       "\n",
       "   -0.58937  -0.54342    ...     -0.86309  -0.86791  -0.87271  -0.87846  \\\n",
       "0 -0.087463 -0.019191    ...     -0.88318  -0.89189  -0.90290  -0.91427   \n",
       "1 -0.996720 -0.985040    ...     -0.83499  -0.86204  -0.88559  -0.90454   \n",
       "2 -0.857090 -0.693320    ...     -0.72810  -0.74512  -0.76376  -0.78068   \n",
       "3 -0.506920 -0.446040    ...     -0.95452  -0.97322  -0.98984  -1.00520   \n",
       "4 -0.595370 -0.457100    ...     -0.59899  -0.69078  -0.78410  -0.87322   \n",
       "\n",
       "   -0.88592  -0.89619  -0.90783  -0.91942  -0.93018  -0.93939  \n",
       "0  -0.92668  -0.93966  -0.95244  -0.96623   -0.9805  -0.99178  \n",
       "1  -0.93353  -0.99135  -1.06910  -1.13680   -1.1980  -1.27000  \n",
       "2  -0.80593  -0.84350  -0.89531  -0.96052   -1.0509  -1.12830  \n",
       "3  -1.01880  -1.02960  -1.03700  -1.04110   -1.0418  -1.04030  \n",
       "4  -0.95100  -1.01550  -1.07050  -1.12200   -1.1728  -1.21670  \n",
       "\n",
       "[5 rows x 271 columns]"
      ]
     },
     "execution_count": 9,
     "metadata": {},
     "output_type": "execute_result"
    }
   ],
   "source": [
    "words.head()"
   ]
  },
  {
   "cell_type": "code",
   "execution_count": 10,
   "metadata": {
    "collapsed": false
   },
   "outputs": [],
   "source": [
    "words['type']  = words.iloc[:, 1]"
   ]
  },
  {
   "cell_type": "code",
   "execution_count": 11,
   "metadata": {
    "collapsed": false
   },
   "outputs": [],
   "source": [
    "w = words[words['type'] < 5]"
   ]
  },
  {
   "cell_type": "code",
   "execution_count": 12,
   "metadata": {
    "collapsed": false
   },
   "outputs": [
    {
     "data": {
      "text/plain": [
       "(454, 272)"
      ]
     },
     "execution_count": 12,
     "metadata": {},
     "output_type": "execute_result"
    }
   ],
   "source": [
    "w.shape"
   ]
  },
  {
   "cell_type": "code",
   "execution_count": 14,
   "metadata": {
    "collapsed": false
   },
   "outputs": [
    {
     "data": {
      "text/plain": [
       "<matplotlib.axes._subplots.AxesSubplot at 0xbe615f8>"
      ]
     },
     "execution_count": 14,
     "metadata": {},
     "output_type": "execute_result"
    },
    {
     "data": {
      "image/png": "[encoded data removed]",
      "text/plain": [
       "<matplotlib.figure.Figure at 0xbe01e10>"
      ]
     },
     "metadata": {},
     "output_type": "display_data"
    }
   ],
   "source": [
    "w.iloc[0, 1:].plot()"
   ]
  },
  {
   "cell_type": "code",
   "execution_count": 15,
   "metadata": {
    "collapsed": false
   },
   "outputs": [
    {
     "data": {
      "text/plain": [
       "<matplotlib.axes._subplots.AxesSubplot at 0xc3a1080>"
      ]
     },
     "execution_count": 15,
     "metadata": {},
     "output_type": "execute_result"
    },
    {
     "data": {
      "image/png": "[encoded data removed]",
      "text/plain": [
       "<matplotlib.figure.Figure at 0xc1e3da0>"
      ]
     },
     "metadata": {},
     "output_type": "display_data"
    }
   ],
   "source": [
    "w.iloc[2, 1:].plot()"
   ]
  },
  {
   "cell_type": "code",
   "execution_count": null,
   "metadata": {
    "collapsed": true
   },
   "outputs": [],
   "source": [
    "# compute the distance matrix\n"
   ]
  },
  {
   "cell_type": "code",
   "execution_count": 16,
   "metadata": {
    "collapsed": true
   },
   "outputs": [],
   "source": [
    "def DTWDistance(s1, s2):\n",
    "    DTW={}\n",
    "\n",
    "    for i in range(len(s1)):\n",
    "        DTW[(i, -1)] = float('inf')\n",
    "    for i in range(len(s2)):\n",
    "        DTW[(-1, i)] = float('inf')\n",
    "    DTW[(-1, -1)] = 0\n",
    "\n",
    "    for i in range(len(s1)):\n",
    "        for j in range(len(s2)):\n",
    "            dist= (s1[i]-s2[j])**2\n",
    "            DTW[(i, j)] = dist + min(DTW[(i-1, j)],DTW[(i, j-1)], DTW[(i-1, j-1)])\n",
    "\n",
    "    return sqrt(DTW[len(s1)-1, len(s2)-1])"
   ]
  }
 ],
 "metadata": {
  "kernelspec": {
   "display_name": "Python 3",
   "language": "python",
   "name": "python3"
  },
  "language_info": {
   "codemirror_mode": {
    "name": "ipython",
    "version": 3
   },
   "file_extension": ".py",
   "mimetype": "text/x-python",
   "name": "python",
   "nbconvert_exporter": "python",
   "pygments_lexer": "ipython3",
   "version": "3.6.0"
  }
 },
 "nbformat": 4,
 "nbformat_minor": 0
}
